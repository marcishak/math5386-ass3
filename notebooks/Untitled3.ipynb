{
 "cells": [
  {
   "cell_type": "code",
   "execution_count": null,
   "metadata": {},
   "outputs": [],
   "source": [
    "import pandas as pd\n",
    "import matplotlib.pyplot as plt\n",
    "import numpy as np\n",
    "def array(x):\n",
    "    return x\n",
    "def parse_list_col(x):\n",
    "    return eval(x)[0]\n",
    "def mean_list_col(x):\n",
    "    return pd.DataFrame(x.values.tolist()).apply(\"mean\", axis = 0).values.tolist()\n",
    "def std_list_col(x):\n",
    "    x =  pd.DataFrame(x.values.tolist()).apply(\"std\", axis = 0).values.tolist()\n",
    "    # print(x)\n",
    "    return x\n",
    "def upper_conf_list_col(x):\n",
    "    mean = mean_list_col(x)\n",
    "    std = std_list_col(x)\n",
    "    return (np.array(mean) + 1.96 * np.array(std)).tolist()\n",
    "def lower_conf_list_col(x):\n",
    "    mean = mean_list_col(x)\n",
    "    std = std_list_col(x)\n",
    "    return (np.array(mean) - 1.96 * np.array(std)).tolist()\n",
    "    \n",
    "import statsmodels.api as sm\n",
    "import statsmodels.formula.api as smf\n"
   ]
  },
  {
   "cell_type": "code",
   "execution_count": null,
   "metadata": {},
   "outputs": [],
   "source": []
  }
 ],
 "metadata": {
  "kernelspec": {
   "display_name": "Python 3",
   "language": "python",
   "name": "python3"
  },
  "language_info": {
   "codemirror_mode": {
    "name": "ipython",
    "version": 3
   },
   "file_extension": ".py",
   "mimetype": "text/x-python",
   "name": "python",
   "nbconvert_exporter": "python",
   "pygments_lexer": "ipython3",
   "version": "3.7.9"
  }
 },
 "nbformat": 4,
 "nbformat_minor": 4
}
